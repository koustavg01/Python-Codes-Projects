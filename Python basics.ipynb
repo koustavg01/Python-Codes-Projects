{
 "cells": [
  {
   "cell_type": "code",
   "execution_count": 27,
   "metadata": {},
   "outputs": [
    {
     "name": "stdout",
     "output_type": "stream",
     "text": [
      "110\n"
     ]
    }
   ],
   "source": [
    "# This is your first Python program!\n",
    "print(10 + 100)"
   ]
  },
  {
   "cell_type": "code",
   "execution_count": 22,
   "metadata": {},
   "outputs": [],
   "source": [
    "# Overview of Data Types:\n",
    "# Numbers: Integers (int) and floats (float)\n",
    "# Strings: Text data (str)\n",
    "# Booleans: True/False values (bool)"
   ]
  },
  {
   "cell_type": "code",
   "execution_count": 23,
   "metadata": {},
   "outputs": [
    {
     "name": "stdout",
     "output_type": "stream",
     "text": [
      "Banana Apple\n"
     ]
    }
   ],
   "source": [
    "# How to Assign values to a variable. Lets start with a String\n",
    "\n",
    "item = \"Banana\"\n",
    "Item = \"Apple\"\n",
    "item_name = \"Orange\"\n",
    "\n",
    "print(item, Item)\n"
   ]
  },
  {
   "cell_type": "code",
   "execution_count": 28,
   "metadata": {},
   "outputs": [
    {
     "name": "stdout",
     "output_type": "stream",
     "text": [
      "Hello Orange\n"
     ]
    }
   ],
   "source": [
    "print('Hello ' + item_name)"
   ]
  },
  {
   "cell_type": "code",
   "execution_count": 33,
   "metadata": {
    "scrolled": true
   },
   "outputs": [
    {
     "name": "stdout",
     "output_type": "stream",
     "text": [
      "2020\n",
      "text\n",
      "False\n",
      "('luigi', 'mario', 'toad')\n"
     ]
    }
   ],
   "source": [
    "integer = 2020 # number or integer\n",
    "word = 'text' # String or word\n",
    "isHappy = False # boolean\n",
    "naughty_list = ('luigi', 'mario', 'toad')\n",
    "\n",
    "print(integer)\n",
    "print(word)\n",
    "print(isHappy)\n",
    "print(naughty_list)\n"
   ]
  },
  {
   "cell_type": "code",
   "execution_count": 34,
   "metadata": {},
   "outputs": [
    {
     "name": "stdout",
     "output_type": "stream",
     "text": [
      "Mario2025\n"
     ]
    }
   ],
   "source": [
    "year = 2025\n",
    "name = 'Mario'\n",
    "string_number = '22'\n",
    "\n",
    "print(name + str(year))"
   ]
  },
  {
   "cell_type": "code",
   "execution_count": 36,
   "metadata": {},
   "outputs": [
    {
     "name": "stdout",
     "output_type": "stream",
     "text": [
      "32\n"
     ]
    }
   ],
   "source": [
    "print(10 + int(string_number))"
   ]
  },
  {
   "cell_type": "code",
   "execution_count": 37,
   "metadata": {},
   "outputs": [
    {
     "name": "stdout",
     "output_type": "stream",
     "text": [
      "15\n",
      "5\n",
      "50\n",
      "2.0\n",
      "100000\n"
     ]
    }
   ],
   "source": [
    "# Calculator\n",
    "a = 10\n",
    "\n",
    "b = 5\n",
    "\n",
    "addition = a+b\n",
    "difference = a-b\n",
    "multiply = a*b\n",
    "divide = a/b\n",
    "power = a**b\n",
    "\n",
    "print(addition)\n",
    "print(difference)\n",
    "print(multiply)\n",
    "print(divide)\n",
    "print(power)"
   ]
  },
  {
   "cell_type": "code",
   "execution_count": 42,
   "metadata": {},
   "outputs": [
    {
     "name": "stdout",
     "output_type": "stream",
     "text": [
      "You are still young!\n"
     ]
    }
   ],
   "source": [
    "age = 17\n",
    "isHappy = False\n",
    "\n",
    "if age > 21:\n",
    "    print('You are old!')\n",
    "elif age == 18:\n",
    "    print('You are getting old!')\n",
    "else:\n",
    "    print('You are still young!')"
   ]
  },
  {
   "cell_type": "code",
   "execution_count": 52,
   "metadata": {},
   "outputs": [
    {
     "name": "stdout",
     "output_type": "stream",
     "text": [
      "You are B!\n"
     ]
    }
   ],
   "source": [
    "# logic Statement 2\n",
    "age = 10\n",
    "isHappy = False\n",
    "\n",
    "if isHappy:\n",
    "    print('You are A!')\n",
    "else:\n",
    "    print('You are B!')"
   ]
  },
  {
   "cell_type": "code",
   "execution_count": 45,
   "metadata": {},
   "outputs": [
    {
     "name": "stdout",
     "output_type": "stream",
     "text": [
      "Enter something >> 243\n",
      "Enter something >> 77\n",
      "Enter something >> 3\n",
      "Enter something >> 3\n",
      "Enter something >> 0\n",
      "We are done here.\n"
     ]
    }
   ],
   "source": [
    "# While Logic\n",
    "\n",
    "while True:\n",
    "    user_input = input('Enter something >> ')\n",
    "    if user_input == '0':\n",
    "        print('We are done here.')\n",
    "        break\n"
   ]
  },
  {
   "cell_type": "code",
   "execution_count": 47,
   "metadata": {},
   "outputs": [
    {
     "name": "stdout",
     "output_type": "stream",
     "text": [
      "Hey there Mario\n",
      "Luigi\n"
     ]
    }
   ],
   "source": [
    "# Creating a Function\n",
    "\n",
    "def say_hello(name):\n",
    "    print('Hey there', name)\n",
    "\n",
    "say_hello('Mario')\n",
    "print('Luigi')"
   ]
  },
  {
   "cell_type": "code",
   "execution_count": 50,
   "metadata": {},
   "outputs": [
    {
     "name": "stdout",
     "output_type": "stream",
     "text": [
      "Please provide a no >> *\n",
      "That is not a valid number!\n"
     ]
    }
   ],
   "source": [
    "# Try & Except\n",
    "\n",
    "number = input('Please provide a no >> ')\n",
    "\n",
    "try:\n",
    "    print(10 + int(number))\n",
    "except:\n",
    "    print('That is not a valid number!')"
   ]
  },
  {
   "cell_type": "code",
   "execution_count": null,
   "metadata": {},
   "outputs": [],
   "source": []
  },
  {
   "cell_type": "code",
   "execution_count": null,
   "metadata": {},
   "outputs": [],
   "source": []
  }
 ],
 "metadata": {
  "kernelspec": {
   "display_name": "Python 3",
   "language": "python",
   "name": "python3"
  },
  "language_info": {
   "codemirror_mode": {
    "name": "ipython",
    "version": 3
   },
   "file_extension": ".py",
   "mimetype": "text/x-python",
   "name": "python",
   "nbconvert_exporter": "python",
   "pygments_lexer": "ipython3",
   "version": "3.8.5"
  }
 },
 "nbformat": 4,
 "nbformat_minor": 4
}
