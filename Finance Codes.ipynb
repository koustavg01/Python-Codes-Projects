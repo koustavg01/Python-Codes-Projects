{
 "cells": [
  {
   "cell_type": "code",
   "execution_count": null,
   "id": "699561f4",
   "metadata": {},
   "outputs": [],
   "source": [
    "import pandas as pd\n",
    "import numpy as np\n",
    "import yfinance as yf\n",
    "\n",
    "# Load stock data from Yahoo Finance\n",
    "ticker = 'AAPL'\n",
    "data = yf.download(ticker, start='2020-01-01', end='2024-12-31')\n",
    "data = data.dropna()\n",
    "data.head()"
   ]
  },
  {
   "cell_type": "code",
   "execution_count": null,
   "id": "c42ebc9c",
   "metadata": {},
   "outputs": [],
   "source": [
    "# Financial Ratios\n",
    "total_assets = 150000\n",
    "total_liabilities = 90000\n",
    "net_income = 15000\n",
    "revenue = 120000\n",
    "shareholders_equity = total_assets - total_liabilities\n",
    "\n",
    "current_ratio = 1.8\n",
    "debt_to_equity = total_liabilities / shareholders_equity\n",
    "net_profit_margin = net_income / revenue\n",
    "roe = net_income / shareholders_equity\n",
    "\n",
    "print(f'Debt to Equity: {debt_to_equity:.2f}, Net Margin: {net_profit_margin:.2%}, ROE: {roe:.2%}')"
   ]
  },
  {
   "cell_type": "code",
   "execution_count": null,
   "id": "0751649d",
   "metadata": {},
   "outputs": [],
   "source": [
    "# Time Series Returns & Cumulative Returns\n",
    "data['Returns'] = data['Close'].pct_change()\n",
    "data['Cumulative'] = (1 + data['Returns']).cumprod()\n",
    "data[['Returns', 'Cumulative']].plot(figsize=(12,5), title='Returns and Cumulative Returns')"
   ]
  },
  {
   "cell_type": "code",
   "execution_count": null,
   "id": "0f5b01c7",
   "metadata": {},
   "outputs": [],
   "source": [
    "# Portfolio Performance & Risk Metrics\n",
    "tickers = ['AAPL', 'MSFT']\n",
    "prices = yf.download(tickers, start='2020-01-01', end='2024-12-31')['Close']\n",
    "returns = prices.pct_change().dropna()\n",
    "\n",
    "weights = np.array([0.6, 0.4])\n",
    "portfolio_return = np.sum(returns.mean() * weights) * 252\n",
    "portfolio_volatility = np.sqrt(np.dot(weights.T, np.dot(returns.cov() * 252, weights)))\n",
    "sharpe_ratio = portfolio_return / portfolio_volatility\n",
    "\n",
    "print(f'Annual Return: {portfolio_return:.2%}, Volatility: {portfolio_volatility:.2%}, Sharpe: {sharpe_ratio:.2f}')"
   ]
  },
  {
   "cell_type": "code",
   "execution_count": null,
   "id": "2631f035",
   "metadata": {},
   "outputs": [],
   "source": [
    "# CAPM & Beta Calculation\n",
    "stock = yf.download('AAPL', start='2020-01-01', end='2024-12-31')['Close'].pct_change()\n",
    "market = yf.download('^GSPC', start='2020-01-01', end='2024-12-31')['Close'].pct_change()\n",
    "\n",
    "import statsmodels.api as sm\n",
    "X = sm.add_constant(market.dropna())\n",
    "y = stock.loc[X.index]\n",
    "model = sm.OLS(y, X).fit()\n",
    "\n",
    "print(model.summary())"
   ]
  },
  {
   "cell_type": "code",
   "execution_count": null,
   "id": "65fe098f",
   "metadata": {},
   "outputs": [],
   "source": [
    "# Technical Analysis Indicators\n",
    "data['SMA_50'] = data['Close'].rolling(50).mean()\n",
    "data['SMA_200'] = data['Close'].rolling(200).mean()\n",
    "data[['Close', 'SMA_50', 'SMA_200']].plot(figsize=(12,6), title='SMA Crossover')"
   ]
  },
  {
   "cell_type": "code",
   "execution_count": null,
   "id": "b0da9bd4",
   "metadata": {},
   "outputs": [],
   "source": [
    "# Bond Price Calculation\n",
    "def bond_price(face_value, coupon_rate, years, ytm, freq=1):\n",
    "    periods = years * freq\n",
    "    coupon = face_value * coupon_rate / freq\n",
    "    return sum([coupon / (1 + ytm/freq)**t for t in range(1, periods+1)]) + face_value / (1 + ytm/freq)**periods\n",
    "\n",
    "price = bond_price(1000, 0.05, 10, 0.04)\n",
    "print(f'Bond Price: {price:.2f}')"
   ]
  },
  {
   "cell_type": "code",
   "execution_count": null,
   "id": "24526180",
   "metadata": {},
   "outputs": [],
   "source": [
    "# Plotting\n",
    "import matplotlib.pyplot as plt\n",
    "import seaborn as sns\n",
    "\n",
    "sns.histplot(data['Returns'], kde=True)\n",
    "plt.title('Histogram of Daily Returns')\n",
    "plt.xlabel('Returns')"
   ]
  },
  {
   "cell_type": "code",
   "execution_count": null,
   "id": "f95510a1",
   "metadata": {},
   "outputs": [],
   "source": [
    "# Value at Risk (VaR)\n",
    "var_95 = np.percentile(data['Returns'].dropna(), 5)\n",
    "print(f'95% Historical VaR: {var_95:.2%}')"
   ]
  },
  {
   "cell_type": "code",
   "execution_count": null,
   "id": "d095e712",
   "metadata": {},
   "outputs": [],
   "source": [
    "#Monte Carlo Simulation\n",
    "simulations = 1000\n",
    "T = 252\n",
    "mu = returns[\"AAPL\"].mean()\n",
    "sigma = returns[\"AAPL\"].std()\n",
    "final_prices = []\n",
    "\n",
    "for _ in range(simulations):\n",
    "    daily_returns = np.random.normal(mu, sigma, T)\n",
    "    price_series = 100 * (1 + pd.Series(daily_returns)).cumprod()\n",
    "    final_prices.append(price_series.iloc[-1])\n",
    "\n",
    "plt.hist(final_prices, bins=50)\n",
    "plt.title(\"Simulated Final Prices\")\n",
    "plt.xlabel(\"Final Price\")\n",
    "plt.ylabel(\"Frequency\")\n",
    "plt.grid(True)\n",
    "plt.show()"
   ]
  }
 ],
 "metadata": {
  "language_info": {
   "name": "python"
  }
 },
 "nbformat": 4,
 "nbformat_minor": 5
}
